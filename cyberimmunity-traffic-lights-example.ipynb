{
 "cells": [
  {
   "attachments": {},
   "cell_type": "markdown",
   "metadata": {
    "datalore": {
     "hide_input_from_viewers": false,
     "hide_output_from_viewers": false,
     "node_id": "0RJSlfIlixBX3VaSDV2gM0",
     "report_properties": {
      "y": 0
     },
     "type": "MD"
    },
    "editable": true,
    "slideshow": {
     "slide_type": ""
    },
    "tags": []
   },
   "source": [
    "# Кибериммунный подход к разработке. Учебный пример \"Светофор\"\n",
    "\n",
    "## Об авторе \n",
    "\n",
    "Этот блокнот разработан для вас Сергеем Соболевым, sergey.p.sobolev@kaspersky.com\n",
    "\n",
    "Больше информации о кибериммунном подходе можно найти на странице https://github.com/sergey-sobolev/cyberimmune-systems/wiki/%D0%9A%D0%B8%D0%B1%D0%B5%D1%80%D0%B8%D0%BC%D0%BC%D1%83%D0%BD%D0%B8%D1%82%D0%B5%D1%82\n",
    "\n",
    "Подписывайтесь на телеграм-канал @learning_cyberimmunity (https://t.me/learning_cyberimmunity)\n",
    "\n",
    "Обучающие видео на тему кибериммунного подхода вы можете найти на youtube канале https://www.youtube.com/@learning_cyberimmunity/"
   ]
  },
  {
   "cell_type": "markdown",
   "metadata": {},
   "source": [
    "## О примере \n",
    "\n",
    "Светофор - это, на первый взгляд, очень простая система, но она оказывает критическое влияние на безопасность дорожного движения. \n",
    "Применим идеи конструктивной безопасности к архитектуре и реализации прототипа светофора. За отправную точку возьмём [код базового примера](https://colab.research.google.com/github/sergey-sobolev/cyberimmune-systems-basic-demo-notebook01/blob/main/cyberimmunity-basics.ipynb) и немного его переработаем.\n",
    "\n",
    "Для переработки будем использовать описание архитектуры решения, которое обсуждалось на занятии."
   ]
  },
  {
   "attachments": {},
   "cell_type": "markdown",
   "metadata": {
    "datalore": {
     "hide_input_from_viewers": false,
     "hide_output_from_viewers": false,
     "node_id": "qoIrYDyN2Q7aUkbphFojc4",
     "report_properties": {
      "y": 13
     },
     "type": "MD"
    }
   },
   "source": [
    "## Простая реализация выбранной политики архитектуры\n",
    "\n",
    "Будем использовать политику архитектуры, показанную на рис. 1.\n",
    "\n",
    "![Рис. 1. Политика архитектуры](images/tl-archpol-0.02.png)\n",
    "\n",
    "Рис. 1. Политика архитектуры светофора\n",
    "\n",
    "1. Создадим функциональные компоненты (сущности 1-4) и монитор безопасности, который будет контролировать их взаимодействие, в том числе реализовывать контроль конфигураций светофора (сущность №5 на архитектурной диаграмме)\n",
    "2. Определим политики безопасности\n",
    "3. Сымитируем запрос на изменение режима для проверки работы всех элементов\n",
    "\n",
    "- В качестве интерфейса взаимодействия используем очереди сообщений, у каждой сущности есть своя «персональная» очередь, ассоциированная с ней\n",
    "- Компоненты 1-4 отправляют сообщения только в очередь monitor сущности SecurityMonitor\n",
    "- SecurityMonitor проверяет сообщения на соответствие политикам безопасности, в случае положительного решения перенаправляет сообщение в очередь соответствующей сущности\n",
    "\n",
    "В коде назовём сущности следующим образом\n",
    "1. Связь - CitySystemConnector\n",
    "2. Система управления светофора - ControlSystem\n",
    "3. Управление светодиодами - LightsGPIO\n",
    "4. Система диагностики - SelfDiagnosticsSystem\n",
    "\n",
    "Логику контроля режимов светофора (компонент №5 на рис. 1) реализуем в виде политик безопасности в мониторе безопасности\n",
    "\n",
    "![Рис. 2. Политика архитектуры с именами классов](images/tl-archpol-code.png)\n",
    "\n",
    "Рис. 2. Политика архитектуры с именами классов"
   ]
  },
  {
   "attachments": {},
   "cell_type": "markdown",
   "metadata": {
    "datalore": {
     "hide_input_from_viewers": false,
     "hide_output_from_viewers": false,
     "node_id": "jgbNeMOKShjE1hm5tuOBw4",
     "report_properties": {
      "y": 38
     },
     "type": "MD"
    }
   },
   "source": [
    "Очередь событий для монитора безопасности: все запросы от сущностей друг к другу должны отправляться только в неё"
   ]
  },
  {
   "cell_type": "code",
   "execution_count": 1,
   "metadata": {
    "datalore": {
     "hide_input_from_viewers": false,
     "hide_output_from_viewers": false,
     "node_id": "qFXLn0lYAaIyfzbH8A8kEE",
     "report_properties": {
      "y": 41
     },
     "type": "CODE"
    }
   },
   "outputs": [],
   "source": [
    "from multiprocessing import Queue\n",
    "monitor_events_queue = Queue()"
   ]
  },
  {
   "attachments": {},
   "cell_type": "markdown",
   "metadata": {
    "datalore": {
     "hide_input_from_viewers": false,
     "hide_output_from_viewers": false,
     "node_id": "EkzehjnA2Mnrg7a0WZGW25",
     "report_properties": {
      "y": 45
     },
     "type": "MD"
    }
   },
   "source": [
    "Зафиксируем формат сообщений"
   ]
  },
  {
   "cell_type": "code",
   "execution_count": 2,
   "metadata": {
    "datalore": {
     "hide_input_from_viewers": false,
     "hide_output_from_viewers": false,
     "node_id": "eZGbZhLgtEf9aQODDvGKff",
     "report_properties": {
      "y": 48
     },
     "type": "CODE"
    }
   },
   "outputs": [],
   "source": [
    "from dataclasses import dataclass\n",
    "\n",
    "\n",
    "@dataclass\n",
    "class Event:\n",
    "    source: str       # отправитель\n",
    "    destination: str  # получатель\n",
    "    operation: str    # чего хочет (запрашиваемое действие)\n",
    "    parameters: str   # с какими параметрами"
   ]
  },
  {
   "attachments": {},
   "cell_type": "markdown",
   "metadata": {
    "datalore": {
     "hide_input_from_viewers": false,
     "hide_output_from_viewers": false,
     "node_id": "hRJUXA47UL8ukf6MNHvVyx",
     "report_properties": {
      "y": 55
     },
     "type": "MD"
    }
   },
   "source": [
    "### Монитор безопасности"
   ]
  },
  {
   "attachments": {},
   "cell_type": "markdown",
   "metadata": {
    "datalore": {
     "hide_input_from_viewers": false,
     "hide_output_from_viewers": false,
     "node_id": "n4tONisJH18giBQyiDOBA8",
     "report_properties": {
      "y": 58
     },
     "type": "MD"
    }
   },
   "source": [
    "Ниже в методе _check_policies можно увидеть пример политики безопасности:\n",
    "\n",
    "```python\n",
    "if event.source == \"ControlSystem\" \\\n",
    "        and event.destination == \"LightsGPIO\" \\\n",
    "        and event.operation == \"set_mode\" \\ \n",
    "        and self._check_mode(event.operation):\n",
    "    authorized = True\n",
    "```            \n",
    "\n",
    "в этом примере проверяется отправитель сообщения, получатель, запрашиваемая операция и даже параметры операции. Это максимально жёсткий вариант, очевидно, в зависимости от ситуации количество проверок можно уменьшить.\n",
    "\n",
    "А пока это место для экспериментов, как можно из монитора безопасности заблокировать взаимодействие между сущностями."
   ]
  },
  {
   "cell_type": "code",
   "execution_count": 31,
   "metadata": {
    "datalore": {
     "hide_input_from_viewers": false,
     "hide_output_from_viewers": false,
     "node_id": "CtnCsaSVbBzOlL3WjFpUjl",
     "report_properties": {
      "y": 67
     },
     "type": "CODE"
    }
   },
   "outputs": [],
   "source": [
    "from multiprocessing import Queue, Process\n",
    "from multiprocessing.queues import Empty\n",
    "import json\n",
    "\n",
    "# формат управляющих команд для монитора\n",
    "@dataclass\n",
    "class ControlEvent:\n",
    "    operation: str\n",
    "\n",
    "# список разрешенных сочетаний сигналов светофора\n",
    "# любые сочетания, отсутствующие в этом списке, запрещены\n",
    "traffic_lights_allowed_configurations = [\n",
    "    {\"direction_1\": \"red\", \"direction_2\": \"green\"},\n",
    "    {\"direction_1\": \"red\", \"direction_2\": \"red\"},    \n",
    "    {\"direction_1\": \"red\", \"direction_2\": \"yellow\"},    \n",
    "    {\"direction_1\": \"yellow\", \"direction_2\": \"yellow\"},    \n",
    "    {\"direction_1\": \"off\", \"direction_2\": \"off\"},\n",
    "    {\"direction_1\": \"green\", \"direction_2\": \"red\"},    \n",
    "    {\"direction_1\": \"green\", \"direction_2\": \"yellow\"},\n",
    "]\n",
    "\n",
    "\n",
    "# Класс, реализующий поведение монитора безопасности\n",
    "class Monitor(Process):\n",
    "\n",
    "    def __init__(self, events_q: Queue):\n",
    "        # вызываем конструктор базового класса\n",
    "        super().__init__()\n",
    "        self._events_q = events_q  # очередь событий для монитора (входящие сообщения)\n",
    "        self._control_q = Queue()  # очередь управляющих команд (например, для остановки монитора)\n",
    "        self._entity_queues = {}   # словарь очередей известных монитору сущностей\n",
    "        self._force_quit = False   # флаг завершения работы монитора\n",
    "\n",
    "    # регистрация очереди новой сущности\n",
    "    def add_entity_queue(self, entity_id: str, queue: Queue):\n",
    "        print(f\"[монитор] регистрируем сущность {entity_id}\")\n",
    "        self._entity_queues[entity_id] = queue\n",
    "\n",
    "    def _check_mode(self, mode_str: str) -> bool:\n",
    "        mode_ok = False\n",
    "        try:\n",
    "            # извлечём структуру из строки, в случае ошибки запретим изменение режима\n",
    "            mode = json.loads(mode_str)\n",
    "            # проверим входит ли запрашиваемый режим в список разрешённых\n",
    "            print(f\"[монитор] проверяем конфигурацию {mode}\")\n",
    "            if mode in traffic_lights_allowed_configurations:\n",
    "                # такой режим найден, можно активировать\n",
    "                mode_ok = True\n",
    "        except:\n",
    "            mode_ok = False\n",
    "        return mode_ok\n",
    "\n",
    "    # проверка политик безопасности        \n",
    "    def _check_policies(self, event):\n",
    "        print(f'[монитор] обрабатываем событие {event}')\n",
    "\n",
    "        # default deny: всё, что не разрешено, запрещено по умолчанию!\n",
    "        authorized = False\n",
    "\n",
    "        # проверка на входе, что это экземпляр класса Event, \n",
    "        # т.е. имеет ожидаемый формат\n",
    "        if not isinstance(event, Event):\n",
    "            return False\n",
    "\n",
    "        # \n",
    "        #  политики безопасности\n",
    "        #\n",
    "\n",
    "        # пример политики безопасности\n",
    "        if event.source == \"ControlSystem\" \\\n",
    "                and event.destination == \"LightsGPIO\" \\\n",
    "                and event.operation == \"set_mode\" \\\n",
    "                and self._check_mode(event.parameters):\n",
    "            authorized = True\n",
    "\n",
    "        if authorized is False:\n",
    "            print(\"[монитор] событие не разрешено политиками безопасности\")\n",
    "        return authorized\n",
    "\n",
    "    # выполнение разрешённого запроса\n",
    "    # метод должен вызываться только после проверки политик безопасности\n",
    "    def _proceed(self, event):\n",
    "        print(f'[монитор] отправляем запрос {event}')\n",
    "        try:\n",
    "            # найдём очередь получателя события\n",
    "            dst_q: Queue = self._entity_queues[event.destination]\n",
    "            # и положим запрос в эту очередь\n",
    "            dst_q.put(event)\n",
    "        except  Exception as e:\n",
    "            # например, запрос пришёл от или для неизвестной сущности\n",
    "            print(f\"[монитор] ошибка выполнения запроса {e}\")\n",
    "\n",
    "    # основной код работы монитора безопасности    \n",
    "    def run(self):\n",
    "        print('[монитор] старт')\n",
    "\n",
    "        # в цикле проверяет наличие новых событий, \n",
    "        # выход из цикла по флагу _force_quit\n",
    "        while self._force_quit is False:\n",
    "            event = None\n",
    "            try:\n",
    "                # ожидание сделано неблокирующим, \n",
    "                # чтобы можно было завершить работу монитора, \n",
    "                # не дожидаясь нового сообщения\n",
    "                event = self._events_q.get_nowait()\n",
    "                # сюда попадаем только в случае получение события,\n",
    "                # теперь нужно проверить политики безопасности\n",
    "                authorized = self._check_policies(event)\n",
    "                if authorized:\n",
    "                    # если политиками запрос авторизован - выполняем\n",
    "                    self._proceed(event)\n",
    "            except Empty:\n",
    "                # сюда попадаем, если новых сообщений ещё нет,\n",
    "                # в таком случае немного подождём\n",
    "                sleep(0.5)\n",
    "            except Exception as e:\n",
    "                # что-то пошло не так, выведем сообщение об ошибке\n",
    "                print(f\"[монитор] ошибка обработки {e}, {event}\")\n",
    "            self._check_control_q()\n",
    "        print('[монитор] завершение работы')\n",
    "\n",
    "    # запрос на остановку работы монитора безопасности для завершения работы\n",
    "    # может вызываться вне процесса монитора\n",
    "    def stop(self):\n",
    "        # поскольку монитор работает в отдельном процессе,\n",
    "        # запрос помещается в очередь, которая проверяется из процесса монитора\n",
    "        request = ControlEvent(operation='stop')\n",
    "        self._control_q.put(request)\n",
    "\n",
    "    # проверка наличия новых управляющих команд\n",
    "    def _check_control_q(self):\n",
    "        try:\n",
    "            request: ControlEvent = self._control_q.get_nowait()\n",
    "            print(f\"[монитор] проверяем запрос {request}\")\n",
    "            if isinstance(request, ControlEvent) and request.operation == 'stop':\n",
    "                # поступил запрос на остановку монитора, поднимаем \"красный флаг\"\n",
    "                self._force_quit = True\n",
    "        except Empty:\n",
    "            # никаких команд не поступило, ну и ладно\n",
    "            pass"
   ]
  },
  {
   "attachments": {},
   "cell_type": "markdown",
   "metadata": {
    "datalore": {
     "hide_input_from_viewers": false,
     "hide_output_from_viewers": false,
     "node_id": "zyIhGBqKLRidFSWHBpxdOQ",
     "report_properties": {
      "y": 122
     },
     "type": "MD"
    }
   },
   "source": [
    "### Сущность ControlSystem\n",
    "\n",
    "Эта сущность отправляет сообщение для другой сущности (LightsGPIO)"
   ]
  },
  {
   "cell_type": "code",
   "execution_count": 32,
   "metadata": {
    "datalore": {
     "hide_input_from_viewers": false,
     "hide_output_from_viewers": false,
     "node_id": "qV7V16FUiRUb10fXlcR7gH",
     "report_properties": {
      "y": 126
     },
     "type": "CODE"
    }
   },
   "outputs": [],
   "source": [
    "from multiprocessing import Queue, Process\n",
    "import json\n",
    "\n",
    "\n",
    "class ControlSystem(Process):\n",
    "\n",
    "    def __init__(self, monitor_queue: Queue):\n",
    "        # вызываем конструктор базового класса\n",
    "        super().__init__()\n",
    "        # мы знаем только очередь монитора безопасности для взаимодействия с другими сущностями\n",
    "        # прямая отправка сообщений в другую сущность запрещена в концепции FLASK\n",
    "        self.monitor_queue = monitor_queue\n",
    "        # создаём собственную очередь, в которую монитор сможет положить сообщения для этой сущности\n",
    "        self._own_queue = Queue()\n",
    "\n",
    "    # выдаёт собственную очередь для взаимодействия\n",
    "    def entity_queue(self):\n",
    "        return self._own_queue\n",
    "\n",
    "    # основной код сущности\n",
    "    def run(self):        \n",
    "        print(f'[{self.__class__.__name__}] старт')\n",
    "        print(f'[{self.__class__.__name__}] отправляем тестовый запрос')\n",
    "\n",
    "        mode = {\"direction_1\": \"red\", \"direction_2\": \"green\"}\n",
    "\n",
    "        # запрос для сущности WorkerB - \"скажи hello\"\n",
    "        event = Event(source=self.__class__.__name__,\n",
    "                      destination='LightsGPIO',\n",
    "                      operation='set_mode',\n",
    "                      parameters=json.dumps(mode)\n",
    "                      )\n",
    "        \n",
    "        self.monitor_queue.put(event)\n",
    "        print(f'[{self.__class__.__name__}] завершение работы')"
   ]
  },
  {
   "attachments": {},
   "cell_type": "markdown",
   "metadata": {
    "datalore": {
     "hide_input_from_viewers": false,
     "hide_output_from_viewers": false,
     "node_id": "qKFu63q84HSs8LCLAIzUsM",
     "report_properties": {
      "y": 143
     },
     "type": "MD"
    }
   },
   "source": [
    "### Сущность LightsGPIO\n",
    "\n",
    "Эта сущность ждёт входящее сообщение в течение заданного периода времени, если получает - обрабатывает и завершает работу или выходит по таймауту."
   ]
  },
  {
   "cell_type": "code",
   "execution_count": 33,
   "metadata": {
    "datalore": {
     "hide_input_from_viewers": false,
     "hide_output_from_viewers": false,
     "node_id": "aHRTq6D8zq515nYq4S5Grq",
     "report_properties": {
      "y": 147
     },
     "type": "CODE"
    }
   },
   "outputs": [],
   "source": [
    "from multiprocessing import Queue, Process\n",
    "from time import sleep\n",
    "\n",
    "\n",
    "class LightsGPIO(Process):\n",
    "\n",
    "    def __init__(self, monitor_queue: Queue):\n",
    "        # вызываем конструктор базового класса\n",
    "        super().__init__()\n",
    "        # мы знаем только очередь монитора безопасности для взаимодействия с другими сущностями\n",
    "        # прямая отправка сообщений в другую сущность запрещена в концепции FLASK\n",
    "        self.monitor_queue = monitor_queue\n",
    "        # создаём собственную очередь, в которую монитор сможет положить сообщения для этой сущности\n",
    "        self._own_queue = Queue()\n",
    "\n",
    "    def entity_queue(self):\n",
    "        return self._own_queue\n",
    "\n",
    "    # основной код сущности\n",
    "    def run(self):        \n",
    "        print(f'[{self.__class__.__name__}] старт')\n",
    "        attempts = 10\n",
    "        while attempts > 0:\n",
    "            try:\n",
    "                event: Event = self._own_queue.get_nowait()\n",
    "                if event.operation == \"set_mode\":\n",
    "                    print(f\"[{self.__class__.__name__}] {event.source} запрашивает изменение режима {event.parameters}\")\n",
    "                    print(f\"[{self.__class__.__name__}] новый режим: {event.parameters}!\")\n",
    "                    break\n",
    "            except Empty:\n",
    "                sleep(0.2)\n",
    "                attempts -= 1\n",
    "        print(f'[{self.__class__.__name__}] завершение работы')"
   ]
  },
  {
   "attachments": {},
   "cell_type": "markdown",
   "metadata": {
    "datalore": {
     "hide_input_from_viewers": false,
     "hide_output_from_viewers": false,
     "node_id": "bxjEVINz9fOYcALLwJyT5x",
     "report_properties": {
      "y": 165
     },
     "type": "MD"
    }
   },
   "source": [
    "### Инициализируем монитор и сущности"
   ]
  },
  {
   "cell_type": "code",
   "execution_count": 34,
   "metadata": {
    "datalore": {
     "hide_input_from_viewers": false,
     "hide_output_from_viewers": false,
     "node_id": "sQGtSVoeImd8MaD1uVHSHp",
     "report_properties": {
      "y": 168
     },
     "type": "CODE"
    }
   },
   "outputs": [],
   "source": [
    "monitor = Monitor(monitor_events_queue)\n",
    "control_system = ControlSystem(monitor_events_queue)\n",
    "lights_gpio = LightsGPIO(monitor_events_queue)"
   ]
  },
  {
   "attachments": {},
   "cell_type": "markdown",
   "metadata": {
    "datalore": {
     "hide_input_from_viewers": false,
     "hide_output_from_viewers": false,
     "node_id": "gI4eUA7J5oYR0Iuos0a2so",
     "report_properties": {
      "y": 172
     },
     "type": "MD"
    }
   },
   "source": [
    "регистрируем очереди сущностей в мониторе"
   ]
  },
  {
   "cell_type": "code",
   "execution_count": 35,
   "metadata": {
    "datalore": {
     "hide_input_from_viewers": false,
     "hide_output_from_viewers": false,
     "node_id": "jj3dRPwN0zJJAuwuYDScYO",
     "report_properties": {
      "y": 175
     },
     "type": "CODE"
    }
   },
   "outputs": [
    {
     "name": "stdout",
     "output_type": "stream",
     "text": [
      "[монитор] регистрируем сущность ControlSystem\n",
      "[монитор] регистрируем сущность LightsGPIO\n"
     ]
    }
   ],
   "source": [
    "monitor.add_entity_queue(control_system.__class__.__name__, control_system.entity_queue())\n",
    "monitor.add_entity_queue(lights_gpio.__class__.__name__, lights_gpio.entity_queue())"
   ]
  },
  {
   "attachments": {},
   "cell_type": "markdown",
   "metadata": {
    "datalore": {
     "hide_input_from_viewers": false,
     "hide_output_from_viewers": false,
     "node_id": "Fs6PfdIKOB1pj2iK8wRUPV",
     "report_properties": {
      "y": 181
     },
     "type": "MD"
    }
   },
   "source": [
    "### Запускаем всё"
   ]
  },
  {
   "attachments": {},
   "cell_type": "markdown",
   "metadata": {
    "datalore": {
     "hide_input_from_viewers": false,
     "hide_output_from_viewers": false,
     "node_id": "PzAg6s2xfAZYt0ZbKdEsIR",
     "report_properties": {
      "y": 184
     },
     "type": "MD"
    }
   },
   "source": [
    "Ожидаемая последовательность событий\n",
    "\n",
    "![Диаграмма последовательности вызовов](https://www.plantuml.com/plantuml/png/dPBVIiCm6CNlynIvdtk1NSZ02n4KXJr1w886-cUqcR0xgoBpIdoJLgqhtRg-mfStygJPM3js9OLyoPTpVia97ITQn7eU-6o6gZmr4w7c5r6euyYVB18j0ouIxhb6JpIHtZnMUd4JXKf7iPK5RjgJNQlx1vrStbtTMeNVhXZR0VdmV6yQ34QSQjhI5sNcWrE5QMrUgQHlysAUq7oZqcxyq1hbW6KxG8S5KWEBPHMe5MLeOBa6uHd4YWbVSs1JQg1OKktEF3ATSTI2Vk7Os6b6AupGerctn3uM5WWfn_OAxGRGr4OogTtktjCzmt3utyZ2q-fHQBb_JrSEv177oHigRB1E2ChOL1vxfPz8ZWjdBhv9ELn5Bw_vfFf4L2fFlZsEtkBBpNjxWH8mkyHWbbZbC1TCXbCsne1Vxmy0)"
   ]
  },
  {
   "cell_type": "code",
   "execution_count": 36,
   "metadata": {
    "datalore": {
     "hide_input_from_viewers": false,
     "hide_output_from_viewers": false,
     "node_id": "iPZmNnkpcdyoIXv318yymh",
     "report_properties": {
      "y": 194
     },
     "type": "CODE"
    }
   },
   "outputs": [
    {
     "name": "stdout",
     "output_type": "stream",
     "text": [
      "[монитор] старт\n",
      "[ControlSystem] старт\n",
      "[ControlSystem] отправляем тестовый запрос\n",
      "[LightsGPIO] старт\n",
      "[ControlSystem] завершение работы\n",
      "[LightsGPIO] завершение работы\n",
      "[монитор] проверяем запрос ControlEvent(operation='stop')\n",
      "[монитор] завершение работы\n"
     ]
    }
   ],
   "source": [
    "monitor.start()\n",
    "control_system.start()\n",
    "lights_gpio.start()\n",
    "sleep(2)"
   ]
  },
  {
   "attachments": {},
   "cell_type": "markdown",
   "metadata": {
    "datalore": {
     "hide_input_from_viewers": false,
     "hide_output_from_viewers": false,
     "node_id": "yjTSPXH69VsYFlzYmCG8Uz",
     "report_properties": {
      "y": 206
     },
     "type": "MD"
    }
   },
   "source": [
    "### Теперь останавливаем"
   ]
  },
  {
   "cell_type": "code",
   "execution_count": 37,
   "metadata": {
    "datalore": {
     "hide_input_from_viewers": false,
     "hide_output_from_viewers": false,
     "node_id": "IO5BC9EYbABeIVgITd22Al",
     "report_properties": {
      "y": 209
     },
     "type": "CODE"
    }
   },
   "outputs": [],
   "source": [
    "monitor.stop()\n",
    "control_system.join()\n",
    "lights_gpio.join()\n",
    "monitor.join()"
   ]
  },
  {
   "attachments": {},
   "cell_type": "markdown",
   "metadata": {
    "datalore": {
     "hide_input_from_viewers": false,
     "hide_output_from_viewers": false,
     "node_id": "x6HCBafkZhFxKMVYJNoi7w",
     "report_properties": {
      "y": 213
     },
     "type": "MD"
    }
   },
   "source": [
    "## Заключение\n",
    "\n",
    "В этом блокноте продемонстрирован базовый функционал контролируемого изменения режима работы светофора. \n",
    "\n",
    "В примере не реализованы некоторые сущности и большая часть логики работы светофора, которую можно предположить по архитектурной диаграмме. Попробуйте сделать это самостоятельно!"
   ]
  },
  {
   "attachments": {},
   "cell_type": "markdown",
   "metadata": {
    "datalore": {
     "hide_input_from_viewers": false,
     "hide_output_from_viewers": false,
     "node_id": "juTrOfcuxSpilSgNwmg3q3",
     "report_properties": {
      "y": 220
     },
     "type": "MD"
    }
   },
   "source": [
    "## Упражнения\n",
    "\n",
    "Уровень \"Новичок\"\n",
    "\n",
    "- в коде ControlSystem измените режим на недопустимый (два зелёных) и выполните все ячейки. Убедитесь, что монитор безопасности заблокировал сообщение, как нарушающее политику безопасности\n",
    "- измените политики безопасности так, чтобы был возможен режим \"моргающий жёлтый\" (yellow_blinking), переводящий перекрёсток в режим нерегулируемого\n",
    "\n",
    "Уровень \"Средней сложности\"\n",
    "\n",
    "- добавьте политики безопасности для доп. секций со стрелками (поворот налево или направо)\n",
    "- измените код сущностей, чтобы они не завершали работу после одного сообщения, а работали произвольное время (см. реализацию монитора безопасности)\n",
    "- реализуйте сущность само-диагностики (SelfDiagnostics) и отправку сообщений от LightsGPIO (необходимо доработать политики безопасности!)\n",
    "\n",
    "Уровень \"Продвинутый\"\n",
    "\n",
    "- измените код сущности ControlSystem, реализуйте смену режимов по таймеру (заданную длительность зелёного по каждому направлению)\n",
    "- реализуйте сущность CitySystemConnector, которая будет имитировать получение изменения режима, реализуйте взаимодействие CitySystemConnector и ControlSystem (понадобится доработать политики безопасности). Например, изменение длительности зелёного по направлениям или отключение светофора (перевод перекрёстка в режим нерегулируемого)\n",
    "- реализуйте передачу в компонент CitySystemConnector информации об исправности светофора (статус самодиагностики; текущий режим работы). В компоненте реализуйте вывод в виде сообщений о состоянии системы"
   ]
  },
  {
   "cell_type": "markdown",
   "metadata": {},
   "source": [
    "## Уровень \"Новичок\""
   ]
  },
  {
   "cell_type": "code",
   "execution_count": 137,
   "metadata": {},
   "outputs": [],
   "source": [
    "from multiprocessing import Queue\n",
    "monitor_events_queue = Queue()"
   ]
  },
  {
   "cell_type": "code",
   "execution_count": 138,
   "metadata": {},
   "outputs": [],
   "source": [
    "from dataclasses import dataclass\n",
    "\n",
    "\n",
    "@dataclass\n",
    "class Event:\n",
    "    source: str       # отправитель\n",
    "    destination: str  # получатель\n",
    "    operation: str    # чего хочет (запрашиваемое действие)\n",
    "    parameters: str   # с какими параметрами"
   ]
  },
  {
   "cell_type": "code",
   "execution_count": 139,
   "metadata": {},
   "outputs": [],
   "source": [
    "from multiprocessing import Queue, Process\n",
    "from multiprocessing.queues import Empty\n",
    "import json\n",
    "\n",
    "# формат управляющих команд для монитора\n",
    "@dataclass\n",
    "class ControlEvent:\n",
    "    operation: str\n",
    "\n",
    "# список разрешенных сочетаний сигналов светофора\n",
    "# любые сочетания, отсутствующие в этом списке, запрещены\n",
    "traffic_lights_allowed_configurations = [\n",
    "    {\"direction_1\": \"red\", \"direction_2\": \"green\", \"arrow_1_right\": \"on\", \"arrow_2_right\": \"on\", \"arrow_1_left\": \"off\", \"arrow_2_left\": \"off\"},\n",
    "    {\"direction_1\": \"red\", \"direction_2\": \"green\", \"arrow_1_right\": \"off\", \"arrow_2_right\": \"on\", \"arrow_1_left\": \"off\", \"arrow_2_left\": \"off\"},\n",
    "    {\"direction_1\": \"red\", \"direction_2\": \"green\", \"arrow_1_right\": \"on\", \"arrow_2_right\": \"off\", \"arrow_1_left\": \"off\", \"arrow_2_left\": \"off\"},\n",
    "    {\"direction_1\": \"red\", \"direction_2\": \"green\", \"arrow_1_right\": \"off\", \"arrow_2_right\": \"off\", \"arrow_1_left\": \"off\", \"arrow_2_left\": \"off\"},\n",
    "    {\"direction_1\": \"red\", \"direction_2\": \"red\", \"arrow_1_right\": \"on\", \"arrow_2_right\": \"on\", \"arrow_1_left\": \"on\", \"arrow_2_left\": \"on\"},    \n",
    "    {\"direction_1\": \"red\", \"direction_2\": \"red\", \"arrow_1_right\": \"on\", \"arrow_2_right\": \"on\", \"arrow_1_left\": \"on\", \"arrow_2_left\": \"off\"},\n",
    "    {\"direction_1\": \"red\", \"direction_2\": \"red\", \"arrow_1_right\": \"on\", \"arrow_2_right\": \"on\", \"arrow_1_left\": \"off\", \"arrow_2_left\": \"on\"},    \n",
    "    {\"direction_1\": \"red\", \"direction_2\": \"red\", \"arrow_1_right\": \"on\", \"arrow_2_right\": \"on\", \"arrow_1_left\": \"off\", \"arrow_2_left\": \"off\"},    \n",
    "    {\"direction_1\": \"red\", \"direction_2\": \"red\", \"arrow_1_right\": \"on\", \"arrow_2_right\": \"off\", \"arrow_1_left\": \"on\", \"arrow_2_left\": \"on\"},    \n",
    "    {\"direction_1\": \"red\", \"direction_2\": \"red\", \"arrow_1_right\": \"on\", \"arrow_2_right\": \"off\", \"arrow_1_left\": \"on\", \"arrow_2_left\": \"off\"},    \n",
    "    {\"direction_1\": \"red\", \"direction_2\": \"red\", \"arrow_1_right\": \"on\", \"arrow_2_right\": \"off\", \"arrow_1_left\": \"off\", \"arrow_2_left\": \"on\"},    \n",
    "    {\"direction_1\": \"red\", \"direction_2\": \"red\", \"arrow_1_right\": \"on\", \"arrow_2_right\": \"off\", \"arrow_1_left\": \"off\", \"arrow_2_left\": \"off\"},    \n",
    "    {\"direction_1\": \"red\", \"direction_2\": \"red\", \"arrow_1_right\": \"off\", \"arrow_2_right\": \"on\", \"arrow_1_left\": \"on\", \"arrow_2_left\": \"on\"},    \n",
    "    {\"direction_1\": \"red\", \"direction_2\": \"red\", \"arrow_1_right\": \"off\", \"arrow_2_right\": \"on\", \"arrow_1_left\": \"on\", \"arrow_2_left\": \"off\"},    \n",
    "    {\"direction_1\": \"red\", \"direction_2\": \"red\", \"arrow_1_right\": \"off\", \"arrow_2_right\": \"on\", \"arrow_1_left\": \"off\", \"arrow_2_left\": \"on\"},    \n",
    "    {\"direction_1\": \"red\", \"direction_2\": \"red\", \"arrow_1_right\": \"off\", \"arrow_2_right\": \"on\", \"arrow_1_left\": \"off\", \"arrow_2_left\": \"off\"},    \n",
    "    {\"direction_1\": \"red\", \"direction_2\": \"red\", \"arrow_1_right\": \"off\", \"arrow_2_right\": \"off\", \"arrow_1_left\": \"on\", \"arrow_2_left\": \"on\"},    \n",
    "    {\"direction_1\": \"red\", \"direction_2\": \"red\", \"arrow_1_right\": \"off\", \"arrow_2_right\": \"off\", \"arrow_1_left\": \"on\", \"arrow_2_left\": \"off\"},    \n",
    "    {\"direction_1\": \"red\", \"direction_2\": \"red\", \"arrow_1_right\": \"off\", \"arrow_2_right\": \"off\", \"arrow_1_left\": \"off\", \"arrow_2_left\": \"on\"},    \n",
    "    {\"direction_1\": \"red\", \"direction_2\": \"red\", \"arrow_1_right\": \"off\", \"arrow_2_right\": \"off\", \"arrow_1_left\": \"onff\", \"arrow_2_left\": \"off\"},    \n",
    "    {\"direction_1\": \"red\", \"direction_2\": \"yellow\", \"arrow_1_right\": \"on\", \"arrow_2_right\": \"on\", \"arrow_1_left\": \"off\", \"arrow_2_left\": \"off\"},\n",
    "    {\"direction_1\": \"red\", \"direction_2\": \"yellow\", \"arrow_1_right\": \"off\", \"arrow_2_right\": \"on\", \"arrow_1_left\": \"off\", \"arrow_2_left\": \"off\"},\n",
    "    {\"direction_1\": \"red\", \"direction_2\": \"yellow\", \"arrow_1_right\": \"on\", \"arrow_2_right\": \"off\", \"arrow_1_left\": \"off\", \"arrow_2_left\": \"off\"},\n",
    "    {\"direction_1\": \"red\", \"direction_2\": \"yellow\", \"arrow_1_right\": \"off\", \"arrow_2_right\": \"off\", \"arrow_1_left\": \"off\", \"arrow_2_left\": \"off\"},\n",
    "    #{\"direction_1\": \"yellow\", \"direction_2\": \"yellow\"},    # последний раз я такой светофор встречал в Тихвине в 2014 году. современные ждут некоторое время между красным одного светофора и красно-желтым другого.\n",
    "    {\"direction_1\": \"off\", \"direction_2\": \"off\", \"arrow_1_right\": \"off\", \"arrow_2_right\": \"off\", \"arrow_1_left\": \"off\", \"arrow_2_left\": \"off\"},\n",
    "    {\"direction_1\": \"green\", \"direction_2\": \"red\", \"arrow_1_right\": \"off\", \"arrow_2_right\": \"off\", \"arrow_1_left\": \"off\", \"arrow_2_left\": \"off\"},    \n",
    "    {\"direction_1\": \"green\", \"direction_2\": \"red\", \"arrow_1_right\": \"off\", \"arrow_2_right\": \"on\", \"arrow_1_left\": \"off\", \"arrow_2_left\": \"off\"},    \n",
    "    {\"direction_1\": \"green\", \"direction_2\": \"red\", \"arrow_1_right\": \"on\", \"arrow_2_right\": \"off\", \"arrow_1_left\": \"off\", \"arrow_2_left\": \"off\"},    \n",
    "    {\"direction_1\": \"green\", \"direction_2\": \"red\", \"arrow_1_right\": \"on\", \"arrow_2_right\": \"on\", \"arrow_1_left\": \"off\", \"arrow_2_left\": \"off\"},    \n",
    "    {\"direction_1\": \"green\", \"direction_2\": \"red\", \"arrow_1_right\": \"on\", \"arrow_2_right\": \"on\", \"arrow_1_left\": \"off\", \"arrow_2_left\": \"off\"},    \n",
    "    {\"direction_1\": \"yellow\", \"direction_2\": \"red\", \"arrow_1_right\": \"on\", \"arrow_2_right\": \"on\", \"arrow_1_left\": \"off\", \"arrow_2_left\": \"off\"},\n",
    "    {\"direction_1\": \"yellow\", \"direction_2\": \"red\", \"arrow_1_right\": \"off\", \"arrow_2_right\": \"on\", \"arrow_1_left\": \"off\", \"arrow_2_left\": \"off\"},\n",
    "    {\"direction_1\": \"yellow\", \"direction_2\": \"red\", \"arrow_1_right\": \"on\", \"arrow_2_right\": \"off\", \"arrow_1_left\": \"off\", \"arrow_2_left\": \"off\"},\n",
    "    {\"direction_1\": \"yellow\", \"direction_2\": \"red\", \"arrow_1_right\": \"off\", \"arrow_2_right\": \"off\", \"arrow_1_left\": \"off\", \"arrow_2_left\": \"off\"},\n",
    "    #{\"direction_1\": \"green\", \"direction_2\": \"yellow\"}, # в такой конфигурации прекрасный киберимунный светофор будет собирать на себе огромное количество людей, пытающихся проскакивать на жёлтый.\n",
    "    {\"direction_1\": \"blinking_yellow\", \"direction_2\": \"blinking_yellow\", \"arrow_1_right\": \"off\", \"arrow_2_right\": \"off\", \"arrow_1_left\": \"off\", \"arrow_2_left\": \"off\"},\n",
    "]\n",
    "\n",
    "\n",
    "# Класс, реализующий поведение монитора безопасности\n",
    "class Monitor(Process):\n",
    "\n",
    "    def __init__(self, events_q: Queue):\n",
    "        # вызываем конструктор базового класса\n",
    "        super().__init__()\n",
    "        self._events_q = events_q  # очередь событий для монитора (входящие сообщения)\n",
    "        self._control_q = Queue()  # очередь управляющих команд (например, для остановки монитора)\n",
    "        self._entity_queues = {}   # словарь очередей известных монитору сущностей\n",
    "        self._force_quit = False   # флаг завершения работы монитора\n",
    "\n",
    "    # регистрация очереди новой сущности\n",
    "    def add_entity_queue(self, entity_id: str, queue: Queue):\n",
    "        print(f\"[монитор] регистрируем сущность {entity_id}\")\n",
    "        self._entity_queues[entity_id] = queue\n",
    "\n",
    "    def _check_mode(self, mode_str: str) -> bool:\n",
    "        mode_ok = False\n",
    "        try:\n",
    "            # извлечём структуру из строки, в случае ошибки запретим изменение режима\n",
    "            mode = json.loads(mode_str)\n",
    "            # проверим входит ли запрашиваемый режим в список разрешённых\n",
    "            print(f\"[монитор] проверяем конфигурацию {mode}\")\n",
    "            if mode in traffic_lights_allowed_configurations:\n",
    "                # такой режим найден, можно активировать\n",
    "                mode_ok = True\n",
    "        except:\n",
    "            mode_ok = False\n",
    "        return mode_ok\n",
    "\n",
    "    # проверка политик безопасности        \n",
    "    def _check_policies(self, event):\n",
    "        print(f'[монитор] обрабатываем событие {event}')\n",
    "\n",
    "        # default deny: всё, что не разрешено, запрещено по умолчанию!\n",
    "        authorized = False\n",
    "\n",
    "        # проверка на входе, что это экземпляр класса Event, \n",
    "        # т.е. имеет ожидаемый формат\n",
    "        if not isinstance(event, Event):\n",
    "            return False\n",
    "\n",
    "        # \n",
    "        #  политики безопасности\n",
    "        #\n",
    "\n",
    "        # пример политики безопасности\n",
    "        if event.source == \"ControlSystem\" \\\n",
    "                and event.destination == \"LightsGPIO\" \\\n",
    "                and event.operation == \"set_mode\" \\\n",
    "                and self._check_mode(event.parameters):\n",
    "            authorized = True\n",
    "\n",
    "        if authorized is False:\n",
    "            print(\"[монитор] событие не разрешено политиками безопасности\")\n",
    "        return authorized\n",
    "\n",
    "    # выполнение разрешённого запроса\n",
    "    # метод должен вызываться только после проверки политик безопасности\n",
    "    def _proceed(self, event):\n",
    "        print(f'[монитор] отправляем запрос {event}')\n",
    "        try:\n",
    "            # найдём очередь получателя события\n",
    "            dst_q: Queue = self._entity_queues[event.destination]\n",
    "            # и положим запрос в эту очередь\n",
    "            dst_q.put(event)\n",
    "        except  Exception as e:\n",
    "            # например, запрос пришёл от или для неизвестной сущности\n",
    "            print(f\"[монитор] ошибка выполнения запроса {e}\")\n",
    "\n",
    "    # основной код работы монитора безопасности    \n",
    "    def run(self):\n",
    "        print('[монитор] старт')\n",
    "\n",
    "        # в цикле проверяет наличие новых событий, \n",
    "        # выход из цикла по флагу _force_quit\n",
    "        while self._force_quit is False:\n",
    "            event = None\n",
    "            try:\n",
    "                # ожидание сделано неблокирующим, \n",
    "                # чтобы можно было завершить работу монитора, \n",
    "                # не дожидаясь нового сообщения\n",
    "                event = self._events_q.get_nowait()\n",
    "                # сюда попадаем только в случае получение события,\n",
    "                # теперь нужно проверить политики безопасности\n",
    "                authorized = self._check_policies(event)\n",
    "                if authorized:\n",
    "                    # если политиками запрос авторизован - выполняем\n",
    "                    self._proceed(event)\n",
    "            except Empty:\n",
    "                # сюда попадаем, если новых сообщений ещё нет,\n",
    "                # в таком случае немного подождём\n",
    "                sleep(0.5)\n",
    "            except Exception as e:\n",
    "                # что-то пошло не так, выведем сообщение об ошибке\n",
    "                print(f\"[монитор] ошибка обработки {e}, {event}\")\n",
    "            self._check_control_q()\n",
    "        print('[монитор] завершение работы')\n",
    "\n",
    "    # запрос на остановку работы монитора безопасности для завершения работы\n",
    "    # может вызываться вне процесса монитора\n",
    "    def stop(self):\n",
    "        # поскольку монитор работает в отдельном процессе,\n",
    "        # запрос помещается в очередь, которая проверяется из процесса монитора\n",
    "        request = ControlEvent(operation='stop')\n",
    "        self._control_q.put(request)\n",
    "\n",
    "    # проверка наличия новых управляющих команд\n",
    "    def _check_control_q(self):\n",
    "        try:\n",
    "            request: ControlEvent = self._control_q.get_nowait()\n",
    "            print(f\"[монитор] проверяем запрос {request}\")\n",
    "            if isinstance(request, ControlEvent) and request.operation == 'stop':\n",
    "                # поступил запрос на остановку монитора, поднимаем \"красный флаг\"\n",
    "                self._force_quit = True\n",
    "        except Empty:\n",
    "            # никаких команд не поступило, ну и ладно\n",
    "            pass"
   ]
  },
  {
   "cell_type": "code",
   "execution_count": 140,
   "metadata": {},
   "outputs": [],
   "source": [
    "from multiprocessing import Queue, Process\n",
    "from time import sleep\n",
    "\n",
    "\n",
    "class LightsGPIO(Process):\n",
    "\n",
    "    def __init__(self, monitor_queue: Queue):\n",
    "        # вызываем конструктор базового класса\n",
    "        super().__init__()\n",
    "        # мы знаем только очередь монитора безопасности для взаимодействия с другими сущностями\n",
    "        # прямая отправка сообщений в другую сущность запрещена в концепции FLASK\n",
    "        self.monitor_queue = monitor_queue\n",
    "        # создаём собственную очередь, в которую монитор сможет положить сообщения для этой сущности\n",
    "        self._own_queue = Queue()\n",
    "        self._force_quit = False\n",
    "\n",
    "    def entity_queue(self):\n",
    "        return self._own_queue\n",
    "\n",
    "    # основной код сущности\n",
    "    def run(self):        \n",
    "        print(f'[{self.__class__.__name__}] старт')\n",
    "        while True:\n",
    "            try:\n",
    "                event: Event = self._own_queue.get_nowait()\n",
    "                if event.operation == \"set_mode\":\n",
    "                    print(f\"[{self.__class__.__name__}] {event.source} запрашивает изменение режима {event.parameters}\")\n",
    "                    print(f\"[{self.__class__.__name__}] новый режим: {event.parameters}!\")\n",
    "                if event.operation == \"stop\":\n",
    "                    break\n",
    "            except Empty:\n",
    "                sleep(0.2)\n",
    "        #print(f'[{self.__class__.__name__}] завершение работы')\n",
    "    def stop(self):\n",
    "        print(f'[{self.__class__.__name__}] завершение работы')\n",
    "        request = ControlEvent(operation='stop')\n",
    "        self._own_queue.put(request)"
   ]
  },
  {
   "cell_type": "code",
   "execution_count": 141,
   "metadata": {},
   "outputs": [],
   "source": [
    "from multiprocessing import Queue, Process\n",
    "import json\n",
    "\n",
    "\n",
    "class ControlSystem(Process):\n",
    "\n",
    "    def __init__(self, monitor_queue: Queue):\n",
    "        # вызываем конструктор базового класса\n",
    "        super().__init__()\n",
    "        # мы знаем только очередь монитора безопасности для взаимодействия с другими сущностями\n",
    "        # прямая отправка сообщений в другую сущность запрещена в концепции FLASK\n",
    "        self.monitor_queue = monitor_queue\n",
    "        # создаём собственную очередь, в которую монитор сможет положить сообщения для этой сущности\n",
    "        self._own_queue = Queue()\n",
    "\n",
    "    # выдаёт собственную очередь для взаимодействия\n",
    "    def entity_queue(self):\n",
    "        return self._own_queue\n",
    "\n",
    "    # основной код сущности\n",
    "    def run(self):        \n",
    "        print(f'[{self.__class__.__name__}] старт')\n",
    "        print(f'[{self.__class__.__name__}] отправляем тестовый запрос')\n",
    "\n",
    "        mode = {\"direction_1\": \"green\", \"direction_2\": \"green\", \"arrow_1_right\": \"off\", \"arrow_2_right\": \"off\", \"arrow_1_left\": \"off\", \"arrow_2_left\": \"off\"}\n",
    "\n",
    "        # запрос для сущности WorkerB - \"скажи hello\"\n",
    "        event = Event(source=self.__class__.__name__,\n",
    "                      destination='LightsGPIO',\n",
    "                      operation='set_mode',\n",
    "                      parameters=json.dumps(mode)\n",
    "                      )\n",
    "        \n",
    "        self.monitor_queue.put(event)\n",
    "        #sleep(2)\n",
    "        print(f'[{self.__class__.__name__}] перевод в мигающий жёлтый')\n",
    "        mode = {\"direction_1\": \"blinking_yellow\", \"direction_2\": \"blinking_yellow\", \"arrow_1_right\": \"off\", \"arrow_2_right\": \"off\", \"arrow_1_left\": \"off\", \"arrow_2_left\": \"off\"}\n",
    "\n",
    "        event2 = Event(source=self.__class__.__name__,\n",
    "              destination='LightsGPIO',\n",
    "              operation='set_mode',\n",
    "              parameters=json.dumps(mode)\n",
    "              )\n",
    "        self.monitor_queue.put(event2)\n",
    "        \n",
    "        print(f'[{self.__class__.__name__}] завершение работы')"
   ]
  },
  {
   "cell_type": "code",
   "execution_count": 142,
   "metadata": {},
   "outputs": [],
   "source": [
    "monitor_novice = Monitor(monitor_events_queue)\n",
    "control_system_novice = ControlSystem(monitor_events_queue)\n",
    "lights_gpio_novice = LightsGPIO(monitor_events_queue)"
   ]
  },
  {
   "cell_type": "code",
   "execution_count": 143,
   "metadata": {},
   "outputs": [
    {
     "name": "stdout",
     "output_type": "stream",
     "text": [
      "[монитор] регистрируем сущность ControlSystem\n",
      "[монитор] регистрируем сущность LightsGPIO\n"
     ]
    }
   ],
   "source": [
    "monitor_novice.add_entity_queue(control_system.__class__.__name__, control_system.entity_queue())\n",
    "monitor_novice.add_entity_queue(lights_gpio.__class__.__name__, lights_gpio.entity_queue())"
   ]
  },
  {
   "cell_type": "code",
   "execution_count": 144,
   "metadata": {},
   "outputs": [
    {
     "name": "stdout",
     "output_type": "stream",
     "text": [
      "[монитор] старт\n",
      "[ControlSystem] старт\n",
      "[ControlSystem] отправляем тестовый запрос[LightsGPIO] старт\n",
      "\n",
      "[ControlSystem] перевод в мигающий жёлтый\n",
      "[ControlSystem] завершение работы\n",
      "[монитор] обрабатываем событие Event(source='ControlSystem', destination='LightsGPIO', operation='set_mode', parameters='{\"direction_1\": \"green\", \"direction_2\": \"green\", \"arrow_1_right\": \"off\", \"arrow_2_right\": \"off\", \"arrow_1_left\": \"off\", \"arrow_2_left\": \"off\"}')\n",
      "[монитор] проверяем конфигурацию {'direction_1': 'green', 'direction_2': 'green', 'arrow_1_right': 'off', 'arrow_2_right': 'off', 'arrow_1_left': 'off', 'arrow_2_left': 'off'}\n",
      "[монитор] событие не разрешено политиками безопасности\n",
      "[монитор] обрабатываем событие Event(source='ControlSystem', destination='LightsGPIO', operation='set_mode', parameters='{\"direction_1\": \"blinking_yellow\", \"direction_2\": \"blinking_yellow\", \"arrow_1_right\": \"off\", \"arrow_2_right\": \"off\", \"arrow_1_left\": \"off\", \"arrow_2_left\": \"off\"}')\n",
      "[монитор] проверяем конфигурацию {'direction_1': 'blinking_yellow', 'direction_2': 'blinking_yellow', 'arrow_1_right': 'off', 'arrow_2_right': 'off', 'arrow_1_left': 'off', 'arrow_2_left': 'off'}\n",
      "[монитор] отправляем запрос Event(source='ControlSystem', destination='LightsGPIO', operation='set_mode', parameters='{\"direction_1\": \"blinking_yellow\", \"direction_2\": \"blinking_yellow\", \"arrow_1_right\": \"off\", \"arrow_2_right\": \"off\", \"arrow_1_left\": \"off\", \"arrow_2_left\": \"off\"}')\n",
      "[монитор] проверяем запрос ControlEvent(operation='stop')\n",
      "[монитор] завершение работы\n"
     ]
    }
   ],
   "source": [
    "monitor_novice.start()\n",
    "control_system_novice.start()\n",
    "lights_gpio_novice.start()\n",
    "sleep(2)"
   ]
  },
  {
   "cell_type": "code",
   "execution_count": 145,
   "metadata": {},
   "outputs": [
    {
     "name": "stdout",
     "output_type": "stream",
     "text": [
      "[LightsGPIO] завершение работы\n"
     ]
    }
   ],
   "source": [
    "monitor_novice.stop()\n",
    "lights_gpio_novice.stop()\n",
    "control_system_novice.join()\n",
    "lights_gpio_novice.join()\n",
    "monitor_novice.join()"
   ]
  },
  {
   "cell_type": "code",
   "execution_count": null,
   "metadata": {},
   "outputs": [],
   "source": []
  },
  {
   "cell_type": "code",
   "execution_count": null,
   "metadata": {},
   "outputs": [],
   "source": []
  }
 ],
 "metadata": {
  "datalore": {
   "base_environment": "default",
   "computation_mode": "JUPYTER",
   "package_manager": "pip",
   "packages": [],
   "version": 1
  },
  "kernelspec": {
   "display_name": "Python 3 (ipykernel)",
   "language": "python",
   "name": "python3"
  },
  "language_info": {
   "codemirror_mode": {
    "name": "ipython",
    "version": 3
   },
   "file_extension": ".py",
   "mimetype": "text/x-python",
   "name": "python",
   "nbconvert_exporter": "python",
   "pygments_lexer": "ipython3",
   "version": "3.13.7"
  }
 },
 "nbformat": 4,
 "nbformat_minor": 4
}
